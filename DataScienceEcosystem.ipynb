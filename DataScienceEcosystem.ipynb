{
 "cells": [
  {
   "cell_type": "markdown",
   "id": "ddc2c8c9-6a02-4882-ad13-149f5784c91c",
   "metadata": {},
   "source": [
    "# DataScienceEcosystem.ipynb"
   ]
  },
  {
   "cell_type": "markdown",
   "id": "a9e0be80-1625-46ce-ac7b-a4d34a8bc9b7",
   "metadata": {},
   "source": [
    "In this notebook, Data Science Tools and Ecosystem are summarized. Week 4 of Module 2."
   ]
  },
  {
   "cell_type": "markdown",
   "id": "61232f19-ba66-4be6-85a9-663528c17ed7",
   "metadata": {},
   "source": [
    "**Objectives:**\n",
    "- Languages\n",
    "- Libraries\n",
    "- Tools\n",
    "- Arithmetic"
   ]
  },
  {
   "cell_type": "markdown",
   "id": "da210b0e-d5a8-4a4a-9acb-7d03d22e9b39",
   "metadata": {
    "tags": []
   },
   "source": [
    "### Languages\n",
    "1. Python\n",
    "2. Swift\n",
    "3. R\n",
    "4. SQL\n",
    "5. Scala\n"
   ]
  },
  {
   "cell_type": "markdown",
   "id": "33c9173d-f1c0-4ee1-bb75-063a1e20828f",
   "metadata": {},
   "source": [
    "### Libraries\n",
    "1. ggplot\n",
    "2. stringer\n",
    "3. dplyr\n",
    "4. caret\n",
    "5. numpy\n"
   ]
  },
  {
   "cell_type": "markdown",
   "id": "951b13d3-90f8-4d20-8a98-35f7b0b013d0",
   "metadata": {},
   "source": [
    "| Tools        |\n",
    "| ------------ |\n",
    "| IBM Watson S |\n",
    "| RStudio      |\n",
    "| Jupyter Notebook |"
   ]
  },
  {
   "cell_type": "markdown",
   "id": "d7c87df2-3f26-4bba-a4d6-58280f8c1de6",
   "metadata": {},
   "source": [
    "### Below are a few examples of evaluating arithmetic expressions in Python"
   ]
  },
  {
   "cell_type": "code",
   "execution_count": 1,
   "id": "83005a85-8cf6-4f9a-bc1c-472c50623c81",
   "metadata": {},
   "outputs": [
    {
     "data": {
      "text/plain": [
       "17"
      ]
     },
     "execution_count": 1,
     "metadata": {},
     "output_type": "execute_result"
    }
   ],
   "source": [
    "(3*4)+5"
   ]
  },
  {
   "cell_type": "code",
   "execution_count": 2,
   "id": "a181373a-8c25-4de1-9046-283ebd6f7fd6",
   "metadata": {},
   "outputs": [
    {
     "name": "stdout",
     "output_type": "stream",
     "text": [
      "3.3333333333333335\n"
     ]
    }
   ],
   "source": [
    "# this code converts 200 mins into hours\n",
    "min = 200.00\n",
    "hours = min/60\n",
    "print(hours)"
   ]
  },
  {
   "cell_type": "markdown",
   "id": "b0a77c48-5ee2-40a9-a327-1472e734a5c7",
   "metadata": {},
   "source": [
    "## Author:\n",
    "Steve M"
   ]
  },
  {
   "cell_type": "code",
   "execution_count": null,
   "id": "51303ae5-7749-4af8-917a-1b0ba5acebe2",
   "metadata": {},
   "outputs": [],
   "source": []
  }
 ],
 "metadata": {
  "kernelspec": {
   "display_name": "Python",
   "language": "python",
   "name": "conda-env-python-py"
  },
  "language_info": {
   "codemirror_mode": {
    "name": "ipython",
    "version": 3
   },
   "file_extension": ".py",
   "mimetype": "text/x-python",
   "name": "python",
   "nbconvert_exporter": "python",
   "pygments_lexer": "ipython3",
   "version": "3.7.12"
  }
 },
 "nbformat": 4,
 "nbformat_minor": 5
}
